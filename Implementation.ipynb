{
  "nbformat": 4,
  "nbformat_minor": 0,
  "metadata": {
    "kernelspec": {
      "display_name": "Python 3",
      "language": "python",
      "name": "python3"
    },
    "language_info": {
      "codemirror_mode": {
        "name": "ipython",
        "version": 3
      },
      "file_extension": ".py",
      "mimetype": "text/x-python",
      "name": "python",
      "nbconvert_exporter": "python",
      "pygments_lexer": "ipython3",
      "version": "3.8.3"
    },
    "colab": {
      "name": "code.ipynb",
      "provenance": [],
      "collapsed_sections": [],
      "include_colab_link": true
    }
  },
  "cells": [
    {
      "cell_type": "markdown",
      "metadata": {
        "id": "view-in-github",
        "colab_type": "text"
      },
      "source": [
        "<a href=\"https://colab.research.google.com/github/Ugadot/Tubable-Survivabilty-Off-chain/blob/main/Implementation.ipynb\" target=\"_parent\"><img src=\"https://colab.research.google.com/assets/colab-badge.svg\" alt=\"Open In Colab\"/></a>"
      ]
    },
    {
      "cell_type": "code",
      "metadata": {
        "id": "L_QXcA4AxcCZ"
      },
      "source": [
        "import os\n",
        "import numpy as np   \n",
        "import networkx as nx\n",
        "from scipy.optimize import fsolve\n",
        "import math\n",
        "import graphviz\n",
        "import matplotlib.pyplot as plt\n",
        "%matplotlib inline\n",
        "DEBUG=False"
      ],
      "execution_count": null,
      "outputs": []
    },
    {
      "cell_type": "code",
      "metadata": {
        "id": "4sPrjU6OxcCl"
      },
      "source": [
        "# TODO: is this needed?\n",
        "\n",
        "channel_to_demand_dict = {}\n",
        "demand_to_channel_dict = {}\n",
        "\n",
        "\n",
        "def Hfunc(graph, channel):\n",
        "    return channel_to_demand_dict[channel]\n",
        "\n",
        "def reverseHfunc(graph, demand):\n",
        "    return demand_to_channel_dict[demand]"
      ],
      "execution_count": null,
      "outputs": []
    },
    {
      "cell_type": "markdown",
      "metadata": {
        "id": "aXrEwLlrgKlj"
      },
      "source": [
        ""
      ]
    },
    {
      "cell_type": "code",
      "metadata": {
        "id": "o-wvCuUjF6D4"
      },
      "source": [
        "def realErf(x):\r\n",
        "  return 0.5 * math.erf(x) + 0.5\r\n",
        "  # return math.erf(x)\r\n",
        "\r\n",
        "def toMinimize(x, M, S, S_0):\r\n",
        "  rightArg = (x - M) / S\r\n",
        "  leftArg = (-x-M) / S\r\n",
        "  # return np.abs(realErf(rightArg) - realErf(leftArg) - S_0)\r\n",
        "  return realErf(rightArg) - realErf(leftArg) - S_0"
      ],
      "execution_count": null,
      "outputs": []
    },
    {
      "cell_type": "code",
      "metadata": {
        "id": "TTuvn3MVBbta"
      },
      "source": [
        "def blackbox(Mu, Sigma, S_0):\r\n",
        "  '''\r\n",
        "    given an Gaussian distribution with Mu and Sigma,\r\n",
        "    calc the symmetric threshold x > 0 that ensures that\r\n",
        "    the area beneath the graph between [-x,x] is larger or equal to S_0\r\n",
        "  '''\r\n",
        "\r\n",
        "  # TODO: Apply optimization function with T iterations that calc the needed x val\r\n",
        "  new_capacity = fsolve(toMinimize, [np.abs(Mu)], args=(Mu, Sigma, S_0))\r\n",
        "  # print (toMinimize(new_capacity, Mu, Sigma, S_0))\r\n",
        "  return new_capacity"
      ],
      "execution_count": null,
      "outputs": []
    },
    {
      "cell_type": "code",
      "metadata": {
        "colab": {
          "base_uri": "https://localhost:8080/"
        },
        "id": "Fpa4PIuDJvyG",
        "outputId": "324033c0-eebc-47ec-a0a2-6d529a4ad6be"
      },
      "source": [
        "# Sanity check for black box \r\n",
        "# demand average diff\r\n",
        "mu = 0\r\n",
        "# demand std\r\n",
        "std = 1\r\n",
        "# required survivability\r\n",
        "sur = 0.9\r\n",
        "capacity = blackbox(mu, std, sur)\r\n",
        "print(capacity)\r\n",
        "toMinimize(capacity, mu, std, sur)\r\n"
      ],
      "execution_count": null,
      "outputs": [
        {
          "output_type": "stream",
          "text": [
            "[1.16308715]\n"
          ],
          "name": "stdout"
        },
        {
          "output_type": "execute_result",
          "data": {
            "text/plain": [
              "-2.275957200481571e-14"
            ]
          },
          "metadata": {
            "tags": []
          },
          "execution_count": 16
        }
      ]
    },
    {
      "cell_type": "markdown",
      "metadata": {
        "id": "1WCr6PRMl9sN"
      },
      "source": [
        ""
      ]
    },
    {
      "cell_type": "code",
      "metadata": {
        "id": "YHZ3hn0dxcCm"
      },
      "source": [
        "def findMinWcVal(graph, channel, S_0, demand_channel):\n",
        "    '''  \n",
        "        Inputs:\n",
        "          The current graph\n",
        "          An existing channel\n",
        "          A new demand that should use this channel\n",
        "          survivability demand\n",
        "\n",
        "        returns the minimal capacity that should be added to the channel,\n",
        "        in order to maintain the required survivability\n",
        "    '''\n",
        "    source, target, mu, sigma = demand_channel\n",
        "    M, S = mu, sigma\n",
        "    prev_capacity = 0\n",
        "    u,v = channel\n",
        "    \n",
        "    if DEBUG: print(\"s: {}, t: {}, has_edge {}\".format(u, v, graph.has_edge(u,v)))\n",
        "    if graph.has_edge(u,v):        \n",
        "        if DEBUG: print(\"edge: {} demands: {}\".format((u,v), graph[u][v]['demands']))\n",
        "        \n",
        "        for demand in graph[u][v]['demands']:\n",
        "            M += demand[2]\n",
        "            S += demand[3]\n",
        "            prev_capacity = graph[u][v]['weight']\n",
        "\n",
        "    # TODO\n",
        "    x = blackbox(M, S, S_0)\n",
        "    delta = max(0, x - prev_capacity) # TODO: We can use negative weights to give better חסם\n",
        "    if DEBUG:\n",
        "      print(\"[findMinWcVal] channel: {} demand: {} \".format(channel, demand_channel))\n",
        "      print(\"[findMinWcVal] input graph {}\".format(graph.edges.data()))\n",
        "      print(\"[findMinWcVal] M: {} S: {}\".format(M,S))\n",
        "      print(\"[findMinWcVal] prev_capacity: {}\".format(prev_capacity))\n",
        "      print(\"[findMinWcVal] new_capacity: {}\".format(x))\n",
        "      print(\"[findMinWcVal] delta: {}\".format(delta))\n",
        "      \n",
        "    return delta, delta\n",
        "\n",
        "    return 0"
      ],
      "execution_count": null,
      "outputs": []
    },
    {
      "cell_type": "code",
      "metadata": {
        "id": "X_m7DwBWxcCn"
      },
      "source": [
        "def add_demand(currentGraph, newDemand, S_0):\n",
        "    '''\n",
        "        Perform a single iteration of the Algorithm:\n",
        "        Inputs:\n",
        "          current graph\n",
        "          a new demand\n",
        "          required survivability per edge\n",
        "\n",
        "        - find all the existing possible paths\n",
        "        - calculate the required additional deposit on each path to maintain survivability\n",
        "        - choose the miniaml path. can create a new direct path if optimal.\n",
        "    '''\n",
        "    print(\"newDemand:\")\n",
        "    print(newDemand)\n",
        "    source, target, mu, sigma = newDemand\n",
        "    oposite_demand = (target, source, -mu, sigma)\n",
        "    resGraph = nx.DiGraph()\n",
        "    resGraph.add_nodes = currentGraph.nodes()\n",
        "    \n",
        "    # calc all possible costs of new demand \n",
        "\n",
        "    for path in nx.all_simple_paths(currentGraph, source=source, target=target):\n",
        "        # print(\"path: \", path)\n",
        "        for i in range(len(path) - 1):\n",
        "            u = path[i]\n",
        "            v = path[i + 1]\n",
        "            if (u,v) not in resGraph.edges():\n",
        "                # cost = findMinWcVal(currentGraph, (u,v), S_0, newDemand)\n",
        "                c_uv, c_vu = findMinWcVal(currentGraph, (u,v), S_0, newDemand)\n",
        "                resGraph.add_edge(u,v, weight=c_uv+c_vu, c_uv=c_uv, c_vu=c_vu)\n",
        "\n",
        "    # add direct path\n",
        "    c_uv, c_vu = findMinWcVal(currentGraph, (source, target), S_0, newDemand)\n",
        "    resGraph.add_edge(source, target, weight=c_uv+c_vu, c_uv=c_uv, c_vu=c_vu)\n",
        "    if DEBUG:\n",
        "        print(\"resGraph:\")\n",
        "        print(resGraph.edges.data())\n",
        "\n",
        "    # find shortest path\n",
        "    s_path = nx.shortest_path(resGraph, source, target, \n",
        "                                            weight='weight', method='dijkstra')\n",
        "    print(\"shortest path: \")\n",
        "    print(s_path)\n",
        "\n",
        "    # update weights in deposit graph\n",
        "    for i in range(len(s_path) - 1):\n",
        "        u = s_path[i]\n",
        "        v = s_path[i + 1]\n",
        "\n",
        "        if currentGraph.has_edge(u,v):\n",
        "            # update deposit        \n",
        "            currentGraph[u][v]['weight'] += resGraph[u][v]['c_uv']\n",
        "            currentGraph[v][u]['weight'] += resGraph[u][v]['c_vu']\n",
        "            # update flows\n",
        "            currentGraph[u][v]['demands'].append(newDemand)\n",
        "            # update also in the oposite edge\n",
        "\n",
        "            currentGraph[v][u]['demands'].append(oposite_demand)\n",
        "        else:\n",
        "          assert u == source and v == target\n",
        "          # update deposit        \n",
        "          currentGraph.add_edge(u,v, weight=resGraph[u][v]['c_uv'])\n",
        "          currentGraph.add_edge(v,u, weight=resGraph[u][v]['c_vu'])\n",
        "          # update flows\n",
        "          currentGraph[u][v]['demands'] = [newDemand]\n",
        "          currentGraph[v][u]['demands'] = [oposite_demand]\n",
        "\n",
        "\n",
        "    return currentGraph  \n",
        "    \n"
      ],
      "execution_count": null,
      "outputs": []
    },
    {
      "cell_type": "code",
      "metadata": {
        "id": "TtJ293XQIR8s"
      },
      "source": [
        "def getAlgoRes(demand_list, orig_graph, S_0):\r\n",
        "  current_graph = orig_graph\r\n",
        "  for index, demand in enumerate(demand_list):\r\n",
        "    print (\"\\n################## iter {} ###################\\n\".format(index))\r\n",
        "    current_graph = add_demand(current_graph, demand, S_0)\r\n",
        "    printGraph(current_graph)\r\n",
        "  return current_graph"
      ],
      "execution_count": null,
      "outputs": []
    },
    {
      "cell_type": "code",
      "metadata": {
        "id": "V61OAqF1E-qh"
      },
      "source": [
        "def printGraph(graph):\r\n",
        "  seed = 13\r\n",
        "  draw_options = {\r\n",
        "  \"font_size\": 18,\r\n",
        "  \"node_size\": 1500,\r\n",
        "  \"node_color\": \"white\",\r\n",
        "  \"edgecolors\": \"black\",\r\n",
        "  \"linewidths\": 3,\r\n",
        "  \"width\": 3,\r\n",
        "  }\r\n",
        "  fig, ax = plt.subplots(figsize=(5,5))\r\n",
        "  ax.set(xlim=(-1.2, 1.2), ylim=(-1.2, 1.2))\r\n",
        "  pos = nx.shell_layout(graph)\r\n",
        "  \r\n",
        "  # print(\"Nodes position: {}\".format(pos))\r\n",
        "  labels = nx.get_edge_attributes(graph,'weight')\r\n",
        "  # print(graph.edges.data())\r\n",
        "  nx.draw_networkx(graph, pos=pos, **draw_options, ax=ax)\r\n",
        "  nx.draw_networkx_edge_labels(graph, pos=pos, edge_labels=labels, label_pos = 0.5, ax=ax, alpha=0.5)\r\n",
        "\r\n",
        "  plt.show()\r\n",
        "\r\n",
        "# def printGraph(graph):    \r\n",
        "#   draw_options = {\r\n",
        "#   \"font_size\": 18,\r\n",
        "#   \"node_size\": 1500,\r\n",
        "#   \"node_color\": \"white\",\r\n",
        "#   \"edgecolors\": \"black\",\r\n",
        "#   \"linewidths\": 3,\r\n",
        "#   \"width\": 3,\r\n",
        "#   }\r\n",
        "#   plt.figure()\r\n",
        "#   pos = {0: (0,0), 1: (1,2), 2: (2,3)}\r\n",
        "#   labels = nx.get_edge_attributes(graph,'weight')\r\n",
        "#   pos=nx.spring_layout(graph)\r\n",
        "#   #print(graph)\r\n",
        "#   print(graph.edges.data())\r\n",
        "#   nx.draw_networkx(graph, pos=pos, **draw_options)\r\n",
        "#   nx.draw_networkx_edge_labels(graph, pos=nx.spring_layout(graph), edge_labels=labels, label_pos = 0.5)"
      ],
      "execution_count": null,
      "outputs": []
    },
    {
      "cell_type": "code",
      "metadata": {
        "id": "i8wSnkWdxcCn",
        "colab": {
          "base_uri": "https://localhost:8080/"
        },
        "outputId": "fb22829e-08cf-45a8-90c8-f9f880134ca1"
      },
      "source": [
        "print(\"Dummy Example:\")\n",
        "N = 3\n",
        "S_0 = 0.9\n",
        "demand_list = []\n",
        "demand_list.append((0, 1, 10, 1))\n",
        "demand_list.append((0, 2, -10, 1))\n",
        "demand_list.append((2, 1, -2, 0.5))\n",
        "print(demand_list)"
      ],
      "execution_count": null,
      "outputs": [
        {
          "output_type": "stream",
          "text": [
            "Dummy Example:\n"
          ],
          "name": "stdout"
        }
      ]
    },
    {
      "cell_type": "markdown",
      "metadata": {
        "id": "msWrNq5i03Hb"
      },
      "source": [
        "**Simple Solution:**\r\n",
        "For each demand, We will add a direct path between the clients, which will satisfy the survivability constraint."
      ]
    },
    {
      "cell_type": "code",
      "metadata": {
        "colab": {
          "base_uri": "https://localhost:8080/",
          "height": 303
        },
        "id": "gCjXaohzynxp",
        "outputId": "b03a6531-0e54-4ac8-8e9b-d8e26e61cd38"
      },
      "source": [
        "# Direct graph\r\n",
        "def direct_path_solution(demand_list, N):\r\n",
        "  graph = nx.DiGraph()\r\n",
        "  graph.add_nodes_from(range(N))\r\n",
        "  for index, demand in enumerate(demand_list):\r\n",
        "    u, v, mu, sigma = demand\r\n",
        "    oposite_demand = (v, u, -mu, sigma)\r\n",
        "    c_uv, c_vu = findMinWcVal(graph, (u, v), S_0, demand)\r\n",
        "    graph.add_edge(u,v, weight=c_uv)\r\n",
        "    graph.add_edge(v,u, weight=c_vu)\r\n",
        "    # update flows\r\n",
        "    graph[u][v]['demands'] = [demand]\r\n",
        "    graph[v][u]['demands'] = [oposite_demand]\r\n",
        "\r\n",
        "  printGraph(graph)\r\n",
        "\r\n",
        "direct_path_solution(demand_list, 3)\r\n",
        "    "
      ],
      "execution_count": null,
      "outputs": [
        {
          "output_type": "display_data",
          "data": {
            "image/png": "[encoded data removed]",
            "text/plain": [
              "<Figure size 360x360 with 1 Axes>"
            ]
          },
          "metadata": {
            "tags": []
          }
        }
      ]
    },
    {
      "cell_type": "code",
      "metadata": {
        "id": "hBH79WS5yjx4"
      },
      "source": [
        "# \r\n",
        "graph = nx.DiGraph()\r\n",
        "graph.add_nodes_from(range(N))\r\n",
        "#nx.draw_networkx(graph)\r\n",
        "final_graph = getAlgoRes(demand_list, graph, S_0)\r\n",
        "#nx.draw_networkx_edge_lables(final_graph , **draw_options)\r\n"
      ],
      "execution_count": null,
      "outputs": []
    },
    {
      "cell_type": "markdown",
      "metadata": {
        "id": "_vedbFOZ-uv2"
      },
      "source": [
        "In the above example, we can see that there is signifcant difference in the demands between 2 to 0 and 0 to 1.\r\n",
        "Therefore it is better to satisfy the demand from 1 to 2 via this path, instead of opening a new channel."
      ]
    },
    {
      "cell_type": "code",
      "metadata": {
        "id": "770Pxhrz-uRm"
      },
      "source": [
        "printGraph(final_graph)"
      ],
      "execution_count": null,
      "outputs": []
    }
  ]
}